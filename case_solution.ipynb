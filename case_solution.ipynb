{
 "cells": [
  {
   "cell_type": "code",
   "execution_count": 76,
   "metadata": {},
   "outputs": [],
   "source": [
    "import numpy as np\n",
    "import pandas as pd\n",
    "import matplotlib.pyplot as plt\n",
    "from scipy.stats.mstats import trimboth\n",
    "from sklearn.cluster import KMeans\n",
    "from sklearn.preprocessing import OneHotEncoder, StandardScaler\n",
    "import hyperopt\n",
    "from hyperopt import hp, fmin, tpe, STATUS_OK, Trials\n",
    "from hyperopt.pyll import scope\n",
    "from sklearn.ensemble import IsolationForest\n",
    "from sklearn.preprocessing import StandardScaler\n",
    "from sklearn.feature_selection import SelectKBest, f_regression\n",
    "from sklearn.model_selection import cross_val_score, train_test_split\n",
    "from sklearn.metrics import make_scorer, mean_absolute_error\n",
    "import lightgbm as lgb\n",
    "import copy\n",
    "import matplotlib.pyplot as plt\n",
    "import seaborn as sns"
   ]
  },
  {
   "cell_type": "code",
   "execution_count": 3,
   "metadata": {},
   "outputs": [],
   "source": [
    "df = pd.read_csv('CL_megafon_Cup IT_2020_final_data.csv', sep=';')"
   ]
  },
  {
   "cell_type": "code",
   "execution_count": 4,
   "metadata": {},
   "outputs": [
    {
     "data": {
      "text/html": [
       "<div>\n",
       "<style scoped>\n",
       "    .dataframe tbody tr th:only-of-type {\n",
       "        vertical-align: middle;\n",
       "    }\n",
       "\n",
       "    .dataframe tbody tr th {\n",
       "        vertical-align: top;\n",
       "    }\n",
       "\n",
       "    .dataframe thead th {\n",
       "        text-align: right;\n",
       "    }\n",
       "</style>\n",
       "<table border=\"1\" class=\"dataframe\">\n",
       "  <thead>\n",
       "    <tr style=\"text-align: right;\">\n",
       "      <th></th>\n",
       "      <th>time_start</th>\n",
       "      <th>time_end</th>\n",
       "      <th>place_latitude</th>\n",
       "      <th>place_longitude</th>\n",
       "    </tr>\n",
       "  </thead>\n",
       "  <tbody>\n",
       "    <tr>\n",
       "      <td>0</td>\n",
       "      <td>2019-08-24 14:23:56</td>\n",
       "      <td>2019-08-24 18:54:47</td>\n",
       "      <td>28.102908</td>\n",
       "      <td>113.617867</td>\n",
       "    </tr>\n",
       "    <tr>\n",
       "      <td>1</td>\n",
       "      <td>2018-06-19 08:56:22</td>\n",
       "      <td>2018-06-19 12:15:26</td>\n",
       "      <td>28.102908</td>\n",
       "      <td>113.617867</td>\n",
       "    </tr>\n",
       "    <tr>\n",
       "      <td>2</td>\n",
       "      <td>2018-08-29 14:00:32</td>\n",
       "      <td>2018-08-29 14:37:51</td>\n",
       "      <td>28.102908</td>\n",
       "      <td>113.617867</td>\n",
       "    </tr>\n",
       "    <tr>\n",
       "      <td>3</td>\n",
       "      <td>2019-12-10 16:01:26</td>\n",
       "      <td>2019-12-10 16:35:22</td>\n",
       "      <td>28.102908</td>\n",
       "      <td>113.617867</td>\n",
       "    </tr>\n",
       "    <tr>\n",
       "      <td>4</td>\n",
       "      <td>2019-12-10 13:39:42</td>\n",
       "      <td>2019-12-10 17:58:22</td>\n",
       "      <td>28.999495</td>\n",
       "      <td>115.167583</td>\n",
       "    </tr>\n",
       "  </tbody>\n",
       "</table>\n",
       "</div>"
      ],
      "text/plain": [
       "            time_start             time_end  place_latitude  place_longitude\n",
       "0  2019-08-24 14:23:56  2019-08-24 18:54:47       28.102908       113.617867\n",
       "1  2018-06-19 08:56:22  2018-06-19 12:15:26       28.102908       113.617867\n",
       "2  2018-08-29 14:00:32  2018-08-29 14:37:51       28.102908       113.617867\n",
       "3  2019-12-10 16:01:26  2019-12-10 16:35:22       28.102908       113.617867\n",
       "4  2019-12-10 13:39:42  2019-12-10 17:58:22       28.999495       115.167583"
      ]
     },
     "execution_count": 4,
     "metadata": {},
     "output_type": "execute_result"
    }
   ],
   "source": [
    "df.head()"
   ]
  },
  {
   "cell_type": "code",
   "execution_count": 5,
   "metadata": {},
   "outputs": [],
   "source": [
    "dates = pd.read_csv('Dates.csv', sep=';')"
   ]
  },
  {
   "cell_type": "code",
   "execution_count": 6,
   "metadata": {},
   "outputs": [
    {
     "data": {
      "text/html": [
       "<div>\n",
       "<style scoped>\n",
       "    .dataframe tbody tr th:only-of-type {\n",
       "        vertical-align: middle;\n",
       "    }\n",
       "\n",
       "    .dataframe tbody tr th {\n",
       "        vertical-align: top;\n",
       "    }\n",
       "\n",
       "    .dataframe thead th {\n",
       "        text-align: right;\n",
       "    }\n",
       "</style>\n",
       "<table border=\"1\" class=\"dataframe\">\n",
       "  <thead>\n",
       "    <tr style=\"text-align: right;\">\n",
       "      <th></th>\n",
       "      <th>Date</th>\n",
       "      <th>Weekday</th>\n",
       "      <th>half_holiday</th>\n",
       "      <th>Holiday</th>\n",
       "      <th>Holiday_weekends</th>\n",
       "      <th>Regular_weekends</th>\n",
       "      <th>All_weekends</th>\n",
       "      <th>Year</th>\n",
       "      <th>Month</th>\n",
       "      <th>number_in_Year</th>\n",
       "      <th>number_in_Month</th>\n",
       "      <th>Season</th>\n",
       "    </tr>\n",
       "  </thead>\n",
       "  <tbody>\n",
       "    <tr>\n",
       "      <td>0</td>\n",
       "      <td>2018-01-01</td>\n",
       "      <td>Monday</td>\n",
       "      <td>0</td>\n",
       "      <td>1</td>\n",
       "      <td>1</td>\n",
       "      <td>0</td>\n",
       "      <td>1</td>\n",
       "      <td>2018</td>\n",
       "      <td>1</td>\n",
       "      <td>1</td>\n",
       "      <td>1</td>\n",
       "      <td>Winter</td>\n",
       "    </tr>\n",
       "    <tr>\n",
       "      <td>1</td>\n",
       "      <td>2018-01-02</td>\n",
       "      <td>Tuesday</td>\n",
       "      <td>0</td>\n",
       "      <td>0</td>\n",
       "      <td>1</td>\n",
       "      <td>0</td>\n",
       "      <td>1</td>\n",
       "      <td>2018</td>\n",
       "      <td>1</td>\n",
       "      <td>2</td>\n",
       "      <td>2</td>\n",
       "      <td>Winter</td>\n",
       "    </tr>\n",
       "    <tr>\n",
       "      <td>2</td>\n",
       "      <td>2018-01-03</td>\n",
       "      <td>Wednesday</td>\n",
       "      <td>0</td>\n",
       "      <td>0</td>\n",
       "      <td>1</td>\n",
       "      <td>0</td>\n",
       "      <td>1</td>\n",
       "      <td>2018</td>\n",
       "      <td>1</td>\n",
       "      <td>3</td>\n",
       "      <td>3</td>\n",
       "      <td>Winter</td>\n",
       "    </tr>\n",
       "    <tr>\n",
       "      <td>3</td>\n",
       "      <td>2018-01-04</td>\n",
       "      <td>Thursday</td>\n",
       "      <td>0</td>\n",
       "      <td>0</td>\n",
       "      <td>1</td>\n",
       "      <td>0</td>\n",
       "      <td>1</td>\n",
       "      <td>2018</td>\n",
       "      <td>1</td>\n",
       "      <td>4</td>\n",
       "      <td>4</td>\n",
       "      <td>Winter</td>\n",
       "    </tr>\n",
       "    <tr>\n",
       "      <td>4</td>\n",
       "      <td>2018-01-05</td>\n",
       "      <td>Friday</td>\n",
       "      <td>0</td>\n",
       "      <td>0</td>\n",
       "      <td>1</td>\n",
       "      <td>0</td>\n",
       "      <td>1</td>\n",
       "      <td>2018</td>\n",
       "      <td>1</td>\n",
       "      <td>5</td>\n",
       "      <td>5</td>\n",
       "      <td>Winter</td>\n",
       "    </tr>\n",
       "  </tbody>\n",
       "</table>\n",
       "</div>"
      ],
      "text/plain": [
       "         Date    Weekday  half_holiday  Holiday  Holiday_weekends  \\\n",
       "0  2018-01-01     Monday             0        1                 1   \n",
       "1  2018-01-02    Tuesday             0        0                 1   \n",
       "2  2018-01-03  Wednesday             0        0                 1   \n",
       "3  2018-01-04   Thursday             0        0                 1   \n",
       "4  2018-01-05     Friday             0        0                 1   \n",
       "\n",
       "   Regular_weekends  All_weekends  Year  Month  number_in_Year  \\\n",
       "0                 0             1  2018      1               1   \n",
       "1                 0             1  2018      1               2   \n",
       "2                 0             1  2018      1               3   \n",
       "3                 0             1  2018      1               4   \n",
       "4                 0             1  2018      1               5   \n",
       "\n",
       "   number_in_Month  Season  \n",
       "0                1  Winter  \n",
       "1                2  Winter  \n",
       "2                3  Winter  \n",
       "3                4  Winter  \n",
       "4                5  Winter  "
      ]
     },
     "execution_count": 6,
     "metadata": {},
     "output_type": "execute_result"
    }
   ],
   "source": [
    "dates.head()"
   ]
  },
  {
   "cell_type": "code",
   "execution_count": 7,
   "metadata": {},
   "outputs": [],
   "source": [
    "df['time_start'] = pd.to_datetime(df['time_start'], yearfirst=True)\n",
    "df['time_end'] = pd.to_datetime(df['time_end'], yearfirst=True)"
   ]
  },
  {
   "cell_type": "code",
   "execution_count": 9,
   "metadata": {},
   "outputs": [],
   "source": [
    "df.sort_values(by='time_start', ascending=True, inplace=True)"
   ]
  },
  {
   "cell_type": "code",
   "execution_count": 10,
   "metadata": {},
   "outputs": [],
   "source": [
    "df['delta'] = (df['time_end'] - df['time_start']).dt.seconds / 60"
   ]
  },
  {
   "cell_type": "code",
   "execution_count": 11,
   "metadata": {},
   "outputs": [],
   "source": [
    "tt = df['delta'].iloc[0]"
   ]
  },
  {
   "cell_type": "code",
   "execution_count": 12,
   "metadata": {},
   "outputs": [
    {
     "data": {
      "text/plain": [
       "<matplotlib.collections.PathCollection at 0x250b43f64a8>"
      ]
     },
     "execution_count": 12,
     "metadata": {},
     "output_type": "execute_result"
    },
    {
     "data": {
      "image/png": "[encoded data removed]",
      "text/plain": [
       "<Figure size 1080x1080 with 1 Axes>"
      ]
     },
     "metadata": {},
     "output_type": "display_data"
    }
   ],
   "source": [
    "plt.figure(figsize=(15, 15))\n",
    "plt.scatter(df['place_latitude'], df['place_longitude'])"
   ]
  },
  {
   "cell_type": "code",
   "execution_count": 14,
   "metadata": {},
   "outputs": [],
   "source": [
    "km = KMeans(n_clusters=20)"
   ]
  },
  {
   "cell_type": "code",
   "execution_count": 15,
   "metadata": {},
   "outputs": [
    {
     "data": {
      "text/plain": [
       "KMeans(algorithm='auto', copy_x=True, init='k-means++', max_iter=300,\n",
       "    n_clusters=20, n_init=10, n_jobs=None, precompute_distances='auto',\n",
       "    random_state=None, tol=0.0001, verbose=0)"
      ]
     },
     "execution_count": 15,
     "metadata": {},
     "output_type": "execute_result"
    }
   ],
   "source": [
    "km.fit(df[['place_latitude', 'place_longitude']])"
   ]
  },
  {
   "cell_type": "code",
   "execution_count": 16,
   "metadata": {},
   "outputs": [],
   "source": [
    "preds = km.predict(df[['place_latitude', 'place_longitude']])"
   ]
  },
  {
   "cell_type": "code",
   "execution_count": 17,
   "metadata": {},
   "outputs": [
    {
     "data": {
      "image/png": "[encoded data removed]",
      "text/plain": [
       "<Figure size 1080x1080 with 1 Axes>"
      ]
     },
     "metadata": {},
     "output_type": "display_data"
    }
   ],
   "source": [
    "plt.figure(figsize=(15, 15))\n",
    "for i in range(10):\n",
    "    df_plot = df[preds == i]\n",
    "    plt.scatter(df_plot['place_latitude'], df_plot['place_longitude'])"
   ]
  },
  {
   "cell_type": "code",
   "execution_count": 18,
   "metadata": {},
   "outputs": [],
   "source": [
    "df['geo_cluster'] = preds"
   ]
  },
  {
   "cell_type": "code",
   "execution_count": 19,
   "metadata": {},
   "outputs": [
    {
     "data": {
      "text/html": [
       "<div>\n",
       "<style scoped>\n",
       "    .dataframe tbody tr th:only-of-type {\n",
       "        vertical-align: middle;\n",
       "    }\n",
       "\n",
       "    .dataframe tbody tr th {\n",
       "        vertical-align: top;\n",
       "    }\n",
       "\n",
       "    .dataframe thead th {\n",
       "        text-align: right;\n",
       "    }\n",
       "</style>\n",
       "<table border=\"1\" class=\"dataframe\">\n",
       "  <thead>\n",
       "    <tr style=\"text-align: right;\">\n",
       "      <th></th>\n",
       "      <th>time_start</th>\n",
       "      <th>time_end</th>\n",
       "      <th>place_latitude</th>\n",
       "      <th>place_longitude</th>\n",
       "      <th>delta</th>\n",
       "      <th>geo_cluster</th>\n",
       "    </tr>\n",
       "  </thead>\n",
       "  <tbody>\n",
       "    <tr>\n",
       "      <td>73313</td>\n",
       "      <td>2018-01-01 04:35:56</td>\n",
       "      <td>2018-01-01 12:28:19</td>\n",
       "      <td>28.227964</td>\n",
       "      <td>113.565739</td>\n",
       "      <td>472.383333</td>\n",
       "      <td>0</td>\n",
       "    </tr>\n",
       "    <tr>\n",
       "      <td>17836</td>\n",
       "      <td>2018-01-01 09:30:40</td>\n",
       "      <td>2018-01-01 10:37:56</td>\n",
       "      <td>28.871813</td>\n",
       "      <td>114.592832</td>\n",
       "      <td>67.266667</td>\n",
       "      <td>14</td>\n",
       "    </tr>\n",
       "    <tr>\n",
       "      <td>5389</td>\n",
       "      <td>2018-01-01 09:57:24</td>\n",
       "      <td>2018-01-01 10:16:29</td>\n",
       "      <td>28.844192</td>\n",
       "      <td>114.560353</td>\n",
       "      <td>19.083333</td>\n",
       "      <td>14</td>\n",
       "    </tr>\n",
       "    <tr>\n",
       "      <td>53801</td>\n",
       "      <td>2018-01-01 10:06:01</td>\n",
       "      <td>2018-01-01 12:50:29</td>\n",
       "      <td>28.768786</td>\n",
       "      <td>114.582630</td>\n",
       "      <td>164.466667</td>\n",
       "      <td>14</td>\n",
       "    </tr>\n",
       "    <tr>\n",
       "      <td>56346</td>\n",
       "      <td>2018-01-01 11:07:07</td>\n",
       "      <td>2018-04-13 14:18:41</td>\n",
       "      <td>28.650852</td>\n",
       "      <td>114.595380</td>\n",
       "      <td>191.566667</td>\n",
       "      <td>14</td>\n",
       "    </tr>\n",
       "  </tbody>\n",
       "</table>\n",
       "</div>"
      ],
      "text/plain": [
       "               time_start            time_end  place_latitude  \\\n",
       "73313 2018-01-01 04:35:56 2018-01-01 12:28:19       28.227964   \n",
       "17836 2018-01-01 09:30:40 2018-01-01 10:37:56       28.871813   \n",
       "5389  2018-01-01 09:57:24 2018-01-01 10:16:29       28.844192   \n",
       "53801 2018-01-01 10:06:01 2018-01-01 12:50:29       28.768786   \n",
       "56346 2018-01-01 11:07:07 2018-04-13 14:18:41       28.650852   \n",
       "\n",
       "       place_longitude       delta  geo_cluster  \n",
       "73313       113.565739  472.383333            0  \n",
       "17836       114.592832   67.266667           14  \n",
       "5389        114.560353   19.083333           14  \n",
       "53801       114.582630  164.466667           14  \n",
       "56346       114.595380  191.566667           14  "
      ]
     },
     "execution_count": 19,
     "metadata": {},
     "output_type": "execute_result"
    }
   ],
   "source": [
    "df.head()"
   ]
  },
  {
   "cell_type": "code",
   "execution_count": 20,
   "metadata": {},
   "outputs": [],
   "source": [
    "st = df['time_start']"
   ]
  },
  {
   "cell_type": "code",
   "execution_count": 21,
   "metadata": {},
   "outputs": [
    {
     "data": {
      "text/plain": [
       "(array([1.000e+00, 1.000e+00, 1.000e+00, 0.000e+00, 3.000e+00, 0.000e+00,\n",
       "        3.000e+00, 4.000e+00, 1.000e+00, 3.000e+00, 8.000e+00, 2.100e+01,\n",
       "        1.400e+01, 1.500e+01, 1.800e+01, 2.000e+01, 1.400e+01, 1.600e+01,\n",
       "        1.600e+01, 2.500e+01, 4.600e+01, 6.800e+01, 6.500e+01, 3.560e+02,\n",
       "        7.520e+02, 3.950e+03, 6.502e+03, 6.603e+03, 7.523e+03, 7.676e+03,\n",
       "        7.353e+03, 7.020e+03, 6.183e+03, 5.448e+03, 4.958e+03, 4.017e+03,\n",
       "        2.840e+03, 2.251e+03, 2.161e+03, 2.267e+03]),\n",
       " array([-3.40119738, -3.13436038, -2.86752338, -2.60068638, -2.33384938,\n",
       "        -2.06701238, -1.80017538, -1.53333838, -1.26650138, -0.99966438,\n",
       "        -0.73282737, -0.46599037, -0.19915337,  0.06768363,  0.33452063,\n",
       "         0.60135763,  0.86819463,  1.13503163,  1.40186863,  1.66870563,\n",
       "         1.93554263,  2.20237963,  2.46921663,  2.73605363,  3.00289063,\n",
       "         3.26972764,  3.53656464,  3.80340164,  4.07023864,  4.33707564,\n",
       "         4.60391264,  4.87074964,  5.13758664,  5.40442364,  5.67126064,\n",
       "         5.93809764,  6.20493464,  6.47177164,  6.73860864,  7.00544564,\n",
       "         7.27228265]),\n",
       " <a list of 40 Patch objects>)"
      ]
     },
     "execution_count": 21,
     "metadata": {},
     "output_type": "execute_result"
    },
    {
     "data": {
      "image/png": "[encoded data removed]",
      "text/plain": [
       "<Figure size 432x288 with 1 Axes>"
      ]
     },
     "metadata": {},
     "output_type": "display_data"
    }
   ],
   "source": [
    "plt.hist(np.log(df['delta']), bins=40)"
   ]
  },
  {
   "cell_type": "code",
   "execution_count": 22,
   "metadata": {},
   "outputs": [],
   "source": [
    "df['date_start'] = df['time_start'].dt.date"
   ]
  },
  {
   "cell_type": "code",
   "execution_count": 23,
   "metadata": {},
   "outputs": [],
   "source": [
    "dates['Date'] = pd.to_datetime(dates['Date'])"
   ]
  },
  {
   "cell_type": "code",
   "execution_count": 24,
   "metadata": {},
   "outputs": [],
   "source": [
    "df['date_start'] = pd.to_datetime(df['date_start'])"
   ]
  },
  {
   "cell_type": "code",
   "execution_count": 25,
   "metadata": {},
   "outputs": [],
   "source": [
    "df_joined = pd.merge(df, dates, how='left', left_on='date_start', right_on='Date')"
   ]
  },
  {
   "cell_type": "code",
   "execution_count": 26,
   "metadata": {},
   "outputs": [
    {
     "data": {
      "text/html": [
       "<div>\n",
       "<style scoped>\n",
       "    .dataframe tbody tr th:only-of-type {\n",
       "        vertical-align: middle;\n",
       "    }\n",
       "\n",
       "    .dataframe tbody tr th {\n",
       "        vertical-align: top;\n",
       "    }\n",
       "\n",
       "    .dataframe thead th {\n",
       "        text-align: right;\n",
       "    }\n",
       "</style>\n",
       "<table border=\"1\" class=\"dataframe\">\n",
       "  <thead>\n",
       "    <tr style=\"text-align: right;\">\n",
       "      <th></th>\n",
       "      <th>time_start</th>\n",
       "      <th>time_end</th>\n",
       "      <th>place_latitude</th>\n",
       "      <th>place_longitude</th>\n",
       "      <th>delta</th>\n",
       "      <th>geo_cluster</th>\n",
       "      <th>date_start</th>\n",
       "      <th>Date</th>\n",
       "      <th>Weekday</th>\n",
       "      <th>half_holiday</th>\n",
       "      <th>Holiday</th>\n",
       "      <th>Holiday_weekends</th>\n",
       "      <th>Regular_weekends</th>\n",
       "      <th>All_weekends</th>\n",
       "      <th>Year</th>\n",
       "      <th>Month</th>\n",
       "      <th>number_in_Year</th>\n",
       "      <th>number_in_Month</th>\n",
       "      <th>Season</th>\n",
       "    </tr>\n",
       "  </thead>\n",
       "  <tbody>\n",
       "    <tr>\n",
       "      <td>0</td>\n",
       "      <td>2018-01-01 04:35:56</td>\n",
       "      <td>2018-01-01 12:28:19</td>\n",
       "      <td>28.227964</td>\n",
       "      <td>113.565739</td>\n",
       "      <td>472.383333</td>\n",
       "      <td>0</td>\n",
       "      <td>2018-01-01</td>\n",
       "      <td>2018-01-01</td>\n",
       "      <td>Monday</td>\n",
       "      <td>0</td>\n",
       "      <td>1</td>\n",
       "      <td>1</td>\n",
       "      <td>0</td>\n",
       "      <td>1</td>\n",
       "      <td>2018</td>\n",
       "      <td>1</td>\n",
       "      <td>1</td>\n",
       "      <td>1</td>\n",
       "      <td>Winter</td>\n",
       "    </tr>\n",
       "    <tr>\n",
       "      <td>1</td>\n",
       "      <td>2018-01-01 09:30:40</td>\n",
       "      <td>2018-01-01 10:37:56</td>\n",
       "      <td>28.871813</td>\n",
       "      <td>114.592832</td>\n",
       "      <td>67.266667</td>\n",
       "      <td>14</td>\n",
       "      <td>2018-01-01</td>\n",
       "      <td>2018-01-01</td>\n",
       "      <td>Monday</td>\n",
       "      <td>0</td>\n",
       "      <td>1</td>\n",
       "      <td>1</td>\n",
       "      <td>0</td>\n",
       "      <td>1</td>\n",
       "      <td>2018</td>\n",
       "      <td>1</td>\n",
       "      <td>1</td>\n",
       "      <td>1</td>\n",
       "      <td>Winter</td>\n",
       "    </tr>\n",
       "    <tr>\n",
       "      <td>2</td>\n",
       "      <td>2018-01-01 09:57:24</td>\n",
       "      <td>2018-01-01 10:16:29</td>\n",
       "      <td>28.844192</td>\n",
       "      <td>114.560353</td>\n",
       "      <td>19.083333</td>\n",
       "      <td>14</td>\n",
       "      <td>2018-01-01</td>\n",
       "      <td>2018-01-01</td>\n",
       "      <td>Monday</td>\n",
       "      <td>0</td>\n",
       "      <td>1</td>\n",
       "      <td>1</td>\n",
       "      <td>0</td>\n",
       "      <td>1</td>\n",
       "      <td>2018</td>\n",
       "      <td>1</td>\n",
       "      <td>1</td>\n",
       "      <td>1</td>\n",
       "      <td>Winter</td>\n",
       "    </tr>\n",
       "    <tr>\n",
       "      <td>3</td>\n",
       "      <td>2018-01-01 10:06:01</td>\n",
       "      <td>2018-01-01 12:50:29</td>\n",
       "      <td>28.768786</td>\n",
       "      <td>114.582630</td>\n",
       "      <td>164.466667</td>\n",
       "      <td>14</td>\n",
       "      <td>2018-01-01</td>\n",
       "      <td>2018-01-01</td>\n",
       "      <td>Monday</td>\n",
       "      <td>0</td>\n",
       "      <td>1</td>\n",
       "      <td>1</td>\n",
       "      <td>0</td>\n",
       "      <td>1</td>\n",
       "      <td>2018</td>\n",
       "      <td>1</td>\n",
       "      <td>1</td>\n",
       "      <td>1</td>\n",
       "      <td>Winter</td>\n",
       "    </tr>\n",
       "    <tr>\n",
       "      <td>4</td>\n",
       "      <td>2018-01-01 11:07:07</td>\n",
       "      <td>2018-04-13 14:18:41</td>\n",
       "      <td>28.650852</td>\n",
       "      <td>114.595380</td>\n",
       "      <td>191.566667</td>\n",
       "      <td>14</td>\n",
       "      <td>2018-01-01</td>\n",
       "      <td>2018-01-01</td>\n",
       "      <td>Monday</td>\n",
       "      <td>0</td>\n",
       "      <td>1</td>\n",
       "      <td>1</td>\n",
       "      <td>0</td>\n",
       "      <td>1</td>\n",
       "      <td>2018</td>\n",
       "      <td>1</td>\n",
       "      <td>1</td>\n",
       "      <td>1</td>\n",
       "      <td>Winter</td>\n",
       "    </tr>\n",
       "  </tbody>\n",
       "</table>\n",
       "</div>"
      ],
      "text/plain": [
       "           time_start            time_end  place_latitude  place_longitude  \\\n",
       "0 2018-01-01 04:35:56 2018-01-01 12:28:19       28.227964       113.565739   \n",
       "1 2018-01-01 09:30:40 2018-01-01 10:37:56       28.871813       114.592832   \n",
       "2 2018-01-01 09:57:24 2018-01-01 10:16:29       28.844192       114.560353   \n",
       "3 2018-01-01 10:06:01 2018-01-01 12:50:29       28.768786       114.582630   \n",
       "4 2018-01-01 11:07:07 2018-04-13 14:18:41       28.650852       114.595380   \n",
       "\n",
       "        delta  geo_cluster date_start       Date Weekday  half_holiday  \\\n",
       "0  472.383333            0 2018-01-01 2018-01-01  Monday             0   \n",
       "1   67.266667           14 2018-01-01 2018-01-01  Monday             0   \n",
       "2   19.083333           14 2018-01-01 2018-01-01  Monday             0   \n",
       "3  164.466667           14 2018-01-01 2018-01-01  Monday             0   \n",
       "4  191.566667           14 2018-01-01 2018-01-01  Monday             0   \n",
       "\n",
       "   Holiday  Holiday_weekends  Regular_weekends  All_weekends  Year  Month  \\\n",
       "0        1                 1                 0             1  2018      1   \n",
       "1        1                 1                 0             1  2018      1   \n",
       "2        1                 1                 0             1  2018      1   \n",
       "3        1                 1                 0             1  2018      1   \n",
       "4        1                 1                 0             1  2018      1   \n",
       "\n",
       "   number_in_Year  number_in_Month  Season  \n",
       "0               1                1  Winter  \n",
       "1               1                1  Winter  \n",
       "2               1                1  Winter  \n",
       "3               1                1  Winter  \n",
       "4               1                1  Winter  "
      ]
     },
     "execution_count": 26,
     "metadata": {},
     "output_type": "execute_result"
    }
   ],
   "source": [
    "df_joined.head()"
   ]
  },
  {
   "cell_type": "code",
   "execution_count": 27,
   "metadata": {},
   "outputs": [],
   "source": [
    "df = df_joined.copy()"
   ]
  },
  {
   "cell_type": "code",
   "execution_count": 28,
   "metadata": {},
   "outputs": [
    {
     "data": {
      "text/html": [
       "<div>\n",
       "<style scoped>\n",
       "    .dataframe tbody tr th:only-of-type {\n",
       "        vertical-align: middle;\n",
       "    }\n",
       "\n",
       "    .dataframe tbody tr th {\n",
       "        vertical-align: top;\n",
       "    }\n",
       "\n",
       "    .dataframe thead th {\n",
       "        text-align: right;\n",
       "    }\n",
       "</style>\n",
       "<table border=\"1\" class=\"dataframe\">\n",
       "  <thead>\n",
       "    <tr style=\"text-align: right;\">\n",
       "      <th></th>\n",
       "      <th>time_start</th>\n",
       "      <th>time_end</th>\n",
       "      <th>place_latitude</th>\n",
       "      <th>place_longitude</th>\n",
       "      <th>delta</th>\n",
       "      <th>geo_cluster</th>\n",
       "      <th>date_start</th>\n",
       "      <th>Date</th>\n",
       "      <th>Weekday</th>\n",
       "      <th>half_holiday</th>\n",
       "      <th>Holiday</th>\n",
       "      <th>Holiday_weekends</th>\n",
       "      <th>Regular_weekends</th>\n",
       "      <th>All_weekends</th>\n",
       "      <th>Year</th>\n",
       "      <th>Month</th>\n",
       "      <th>number_in_Year</th>\n",
       "      <th>number_in_Month</th>\n",
       "      <th>Season</th>\n",
       "    </tr>\n",
       "  </thead>\n",
       "  <tbody>\n",
       "    <tr>\n",
       "      <td>0</td>\n",
       "      <td>2018-01-01 04:35:56</td>\n",
       "      <td>2018-01-01 12:28:19</td>\n",
       "      <td>28.227964</td>\n",
       "      <td>113.565739</td>\n",
       "      <td>472.383333</td>\n",
       "      <td>0</td>\n",
       "      <td>2018-01-01</td>\n",
       "      <td>2018-01-01</td>\n",
       "      <td>Monday</td>\n",
       "      <td>0</td>\n",
       "      <td>1</td>\n",
       "      <td>1</td>\n",
       "      <td>0</td>\n",
       "      <td>1</td>\n",
       "      <td>2018</td>\n",
       "      <td>1</td>\n",
       "      <td>1</td>\n",
       "      <td>1</td>\n",
       "      <td>Winter</td>\n",
       "    </tr>\n",
       "    <tr>\n",
       "      <td>1</td>\n",
       "      <td>2018-01-01 09:30:40</td>\n",
       "      <td>2018-01-01 10:37:56</td>\n",
       "      <td>28.871813</td>\n",
       "      <td>114.592832</td>\n",
       "      <td>67.266667</td>\n",
       "      <td>14</td>\n",
       "      <td>2018-01-01</td>\n",
       "      <td>2018-01-01</td>\n",
       "      <td>Monday</td>\n",
       "      <td>0</td>\n",
       "      <td>1</td>\n",
       "      <td>1</td>\n",
       "      <td>0</td>\n",
       "      <td>1</td>\n",
       "      <td>2018</td>\n",
       "      <td>1</td>\n",
       "      <td>1</td>\n",
       "      <td>1</td>\n",
       "      <td>Winter</td>\n",
       "    </tr>\n",
       "    <tr>\n",
       "      <td>2</td>\n",
       "      <td>2018-01-01 09:57:24</td>\n",
       "      <td>2018-01-01 10:16:29</td>\n",
       "      <td>28.844192</td>\n",
       "      <td>114.560353</td>\n",
       "      <td>19.083333</td>\n",
       "      <td>14</td>\n",
       "      <td>2018-01-01</td>\n",
       "      <td>2018-01-01</td>\n",
       "      <td>Monday</td>\n",
       "      <td>0</td>\n",
       "      <td>1</td>\n",
       "      <td>1</td>\n",
       "      <td>0</td>\n",
       "      <td>1</td>\n",
       "      <td>2018</td>\n",
       "      <td>1</td>\n",
       "      <td>1</td>\n",
       "      <td>1</td>\n",
       "      <td>Winter</td>\n",
       "    </tr>\n",
       "    <tr>\n",
       "      <td>3</td>\n",
       "      <td>2018-01-01 10:06:01</td>\n",
       "      <td>2018-01-01 12:50:29</td>\n",
       "      <td>28.768786</td>\n",
       "      <td>114.582630</td>\n",
       "      <td>164.466667</td>\n",
       "      <td>14</td>\n",
       "      <td>2018-01-01</td>\n",
       "      <td>2018-01-01</td>\n",
       "      <td>Monday</td>\n",
       "      <td>0</td>\n",
       "      <td>1</td>\n",
       "      <td>1</td>\n",
       "      <td>0</td>\n",
       "      <td>1</td>\n",
       "      <td>2018</td>\n",
       "      <td>1</td>\n",
       "      <td>1</td>\n",
       "      <td>1</td>\n",
       "      <td>Winter</td>\n",
       "    </tr>\n",
       "    <tr>\n",
       "      <td>4</td>\n",
       "      <td>2018-01-01 11:07:07</td>\n",
       "      <td>2018-04-13 14:18:41</td>\n",
       "      <td>28.650852</td>\n",
       "      <td>114.595380</td>\n",
       "      <td>191.566667</td>\n",
       "      <td>14</td>\n",
       "      <td>2018-01-01</td>\n",
       "      <td>2018-01-01</td>\n",
       "      <td>Monday</td>\n",
       "      <td>0</td>\n",
       "      <td>1</td>\n",
       "      <td>1</td>\n",
       "      <td>0</td>\n",
       "      <td>1</td>\n",
       "      <td>2018</td>\n",
       "      <td>1</td>\n",
       "      <td>1</td>\n",
       "      <td>1</td>\n",
       "      <td>Winter</td>\n",
       "    </tr>\n",
       "  </tbody>\n",
       "</table>\n",
       "</div>"
      ],
      "text/plain": [
       "           time_start            time_end  place_latitude  place_longitude  \\\n",
       "0 2018-01-01 04:35:56 2018-01-01 12:28:19       28.227964       113.565739   \n",
       "1 2018-01-01 09:30:40 2018-01-01 10:37:56       28.871813       114.592832   \n",
       "2 2018-01-01 09:57:24 2018-01-01 10:16:29       28.844192       114.560353   \n",
       "3 2018-01-01 10:06:01 2018-01-01 12:50:29       28.768786       114.582630   \n",
       "4 2018-01-01 11:07:07 2018-04-13 14:18:41       28.650852       114.595380   \n",
       "\n",
       "        delta  geo_cluster date_start       Date Weekday  half_holiday  \\\n",
       "0  472.383333            0 2018-01-01 2018-01-01  Monday             0   \n",
       "1   67.266667           14 2018-01-01 2018-01-01  Monday             0   \n",
       "2   19.083333           14 2018-01-01 2018-01-01  Monday             0   \n",
       "3  164.466667           14 2018-01-01 2018-01-01  Monday             0   \n",
       "4  191.566667           14 2018-01-01 2018-01-01  Monday             0   \n",
       "\n",
       "   Holiday  Holiday_weekends  Regular_weekends  All_weekends  Year  Month  \\\n",
       "0        1                 1                 0             1  2018      1   \n",
       "1        1                 1                 0             1  2018      1   \n",
       "2        1                 1                 0             1  2018      1   \n",
       "3        1                 1                 0             1  2018      1   \n",
       "4        1                 1                 0             1  2018      1   \n",
       "\n",
       "   number_in_Year  number_in_Month  Season  \n",
       "0               1                1  Winter  \n",
       "1               1                1  Winter  \n",
       "2               1                1  Winter  \n",
       "3               1                1  Winter  \n",
       "4               1                1  Winter  "
      ]
     },
     "execution_count": 28,
     "metadata": {},
     "output_type": "execute_result"
    }
   ],
   "source": [
    "df.head()"
   ]
  },
  {
   "cell_type": "code",
   "execution_count": 29,
   "metadata": {},
   "outputs": [],
   "source": [
    "ts = df['time_start']"
   ]
  },
  {
   "cell_type": "code",
   "execution_count": 30,
   "metadata": {},
   "outputs": [],
   "source": [
    "df['hour'] = df['time_start'].dt.hour\n",
    "#df['day'] = df['time_start'].dt.day\n",
    "df['Weekday'] = df['time_start'].dt.dayofweek\n",
    "#df['month'] = df['time_start'].dt.month\n",
    "#df['year'] = df['time_start'].dt.year"
   ]
  },
  {
   "cell_type": "code",
   "execution_count": 31,
   "metadata": {},
   "outputs": [
    {
     "data": {
      "text/html": [
       "<div>\n",
       "<style scoped>\n",
       "    .dataframe tbody tr th:only-of-type {\n",
       "        vertical-align: middle;\n",
       "    }\n",
       "\n",
       "    .dataframe tbody tr th {\n",
       "        vertical-align: top;\n",
       "    }\n",
       "\n",
       "    .dataframe thead th {\n",
       "        text-align: right;\n",
       "    }\n",
       "</style>\n",
       "<table border=\"1\" class=\"dataframe\">\n",
       "  <thead>\n",
       "    <tr style=\"text-align: right;\">\n",
       "      <th></th>\n",
       "      <th>time_start</th>\n",
       "      <th>time_end</th>\n",
       "      <th>place_latitude</th>\n",
       "      <th>place_longitude</th>\n",
       "      <th>delta</th>\n",
       "      <th>geo_cluster</th>\n",
       "      <th>date_start</th>\n",
       "      <th>Date</th>\n",
       "      <th>Weekday</th>\n",
       "      <th>half_holiday</th>\n",
       "      <th>Holiday</th>\n",
       "      <th>Holiday_weekends</th>\n",
       "      <th>Regular_weekends</th>\n",
       "      <th>All_weekends</th>\n",
       "      <th>Year</th>\n",
       "      <th>Month</th>\n",
       "      <th>number_in_Year</th>\n",
       "      <th>number_in_Month</th>\n",
       "      <th>Season</th>\n",
       "      <th>hour</th>\n",
       "    </tr>\n",
       "  </thead>\n",
       "  <tbody>\n",
       "    <tr>\n",
       "      <td>0</td>\n",
       "      <td>2018-01-01 04:35:56</td>\n",
       "      <td>2018-01-01 12:28:19</td>\n",
       "      <td>28.227964</td>\n",
       "      <td>113.565739</td>\n",
       "      <td>472.383333</td>\n",
       "      <td>0</td>\n",
       "      <td>2018-01-01</td>\n",
       "      <td>2018-01-01</td>\n",
       "      <td>0</td>\n",
       "      <td>0</td>\n",
       "      <td>1</td>\n",
       "      <td>1</td>\n",
       "      <td>0</td>\n",
       "      <td>1</td>\n",
       "      <td>2018</td>\n",
       "      <td>1</td>\n",
       "      <td>1</td>\n",
       "      <td>1</td>\n",
       "      <td>Winter</td>\n",
       "      <td>4</td>\n",
       "    </tr>\n",
       "    <tr>\n",
       "      <td>1</td>\n",
       "      <td>2018-01-01 09:30:40</td>\n",
       "      <td>2018-01-01 10:37:56</td>\n",
       "      <td>28.871813</td>\n",
       "      <td>114.592832</td>\n",
       "      <td>67.266667</td>\n",
       "      <td>14</td>\n",
       "      <td>2018-01-01</td>\n",
       "      <td>2018-01-01</td>\n",
       "      <td>0</td>\n",
       "      <td>0</td>\n",
       "      <td>1</td>\n",
       "      <td>1</td>\n",
       "      <td>0</td>\n",
       "      <td>1</td>\n",
       "      <td>2018</td>\n",
       "      <td>1</td>\n",
       "      <td>1</td>\n",
       "      <td>1</td>\n",
       "      <td>Winter</td>\n",
       "      <td>9</td>\n",
       "    </tr>\n",
       "    <tr>\n",
       "      <td>2</td>\n",
       "      <td>2018-01-01 09:57:24</td>\n",
       "      <td>2018-01-01 10:16:29</td>\n",
       "      <td>28.844192</td>\n",
       "      <td>114.560353</td>\n",
       "      <td>19.083333</td>\n",
       "      <td>14</td>\n",
       "      <td>2018-01-01</td>\n",
       "      <td>2018-01-01</td>\n",
       "      <td>0</td>\n",
       "      <td>0</td>\n",
       "      <td>1</td>\n",
       "      <td>1</td>\n",
       "      <td>0</td>\n",
       "      <td>1</td>\n",
       "      <td>2018</td>\n",
       "      <td>1</td>\n",
       "      <td>1</td>\n",
       "      <td>1</td>\n",
       "      <td>Winter</td>\n",
       "      <td>9</td>\n",
       "    </tr>\n",
       "    <tr>\n",
       "      <td>3</td>\n",
       "      <td>2018-01-01 10:06:01</td>\n",
       "      <td>2018-01-01 12:50:29</td>\n",
       "      <td>28.768786</td>\n",
       "      <td>114.582630</td>\n",
       "      <td>164.466667</td>\n",
       "      <td>14</td>\n",
       "      <td>2018-01-01</td>\n",
       "      <td>2018-01-01</td>\n",
       "      <td>0</td>\n",
       "      <td>0</td>\n",
       "      <td>1</td>\n",
       "      <td>1</td>\n",
       "      <td>0</td>\n",
       "      <td>1</td>\n",
       "      <td>2018</td>\n",
       "      <td>1</td>\n",
       "      <td>1</td>\n",
       "      <td>1</td>\n",
       "      <td>Winter</td>\n",
       "      <td>10</td>\n",
       "    </tr>\n",
       "    <tr>\n",
       "      <td>4</td>\n",
       "      <td>2018-01-01 11:07:07</td>\n",
       "      <td>2018-04-13 14:18:41</td>\n",
       "      <td>28.650852</td>\n",
       "      <td>114.595380</td>\n",
       "      <td>191.566667</td>\n",
       "      <td>14</td>\n",
       "      <td>2018-01-01</td>\n",
       "      <td>2018-01-01</td>\n",
       "      <td>0</td>\n",
       "      <td>0</td>\n",
       "      <td>1</td>\n",
       "      <td>1</td>\n",
       "      <td>0</td>\n",
       "      <td>1</td>\n",
       "      <td>2018</td>\n",
       "      <td>1</td>\n",
       "      <td>1</td>\n",
       "      <td>1</td>\n",
       "      <td>Winter</td>\n",
       "      <td>11</td>\n",
       "    </tr>\n",
       "  </tbody>\n",
       "</table>\n",
       "</div>"
      ],
      "text/plain": [
       "           time_start            time_end  place_latitude  place_longitude  \\\n",
       "0 2018-01-01 04:35:56 2018-01-01 12:28:19       28.227964       113.565739   \n",
       "1 2018-01-01 09:30:40 2018-01-01 10:37:56       28.871813       114.592832   \n",
       "2 2018-01-01 09:57:24 2018-01-01 10:16:29       28.844192       114.560353   \n",
       "3 2018-01-01 10:06:01 2018-01-01 12:50:29       28.768786       114.582630   \n",
       "4 2018-01-01 11:07:07 2018-04-13 14:18:41       28.650852       114.595380   \n",
       "\n",
       "        delta  geo_cluster date_start       Date  Weekday  half_holiday  \\\n",
       "0  472.383333            0 2018-01-01 2018-01-01        0             0   \n",
       "1   67.266667           14 2018-01-01 2018-01-01        0             0   \n",
       "2   19.083333           14 2018-01-01 2018-01-01        0             0   \n",
       "3  164.466667           14 2018-01-01 2018-01-01        0             0   \n",
       "4  191.566667           14 2018-01-01 2018-01-01        0             0   \n",
       "\n",
       "   Holiday  Holiday_weekends  Regular_weekends  All_weekends  Year  Month  \\\n",
       "0        1                 1                 0             1  2018      1   \n",
       "1        1                 1                 0             1  2018      1   \n",
       "2        1                 1                 0             1  2018      1   \n",
       "3        1                 1                 0             1  2018      1   \n",
       "4        1                 1                 0             1  2018      1   \n",
       "\n",
       "   number_in_Year  number_in_Month  Season  hour  \n",
       "0               1                1  Winter     4  \n",
       "1               1                1  Winter     9  \n",
       "2               1                1  Winter     9  \n",
       "3               1                1  Winter    10  \n",
       "4               1                1  Winter    11  "
      ]
     },
     "execution_count": 31,
     "metadata": {},
     "output_type": "execute_result"
    }
   ],
   "source": [
    "df.head()"
   ]
  },
  {
   "cell_type": "code",
   "execution_count": 32,
   "metadata": {},
   "outputs": [],
   "source": [
    "df['log_target'] = np.log(df['delta'])\n",
    "mask = trimboth(df['log_target'], 0.025).mask\n",
    "df = df[mask == False]"
   ]
  },
  {
   "cell_type": "code",
   "execution_count": 33,
   "metadata": {},
   "outputs": [],
   "source": [
    "oh_season = OneHotEncoder(sparse=False)"
   ]
  },
  {
   "cell_type": "code",
   "execution_count": 34,
   "metadata": {},
   "outputs": [],
   "source": [
    "encoded_seasons = oh_season.fit_transform(df['Season'].values.reshape(-1, 1))"
   ]
  },
  {
   "cell_type": "code",
   "execution_count": 35,
   "metadata": {},
   "outputs": [],
   "source": [
    "oh_weekday = OneHotEncoder(sparse=False)"
   ]
  },
  {
   "cell_type": "code",
   "execution_count": 36,
   "metadata": {},
   "outputs": [
    {
     "name": "stderr",
     "output_type": "stream",
     "text": [
      "C:\\ProgramData\\Anaconda3\\lib\\site-packages\\sklearn\\preprocessing\\_encoders.py:363: FutureWarning: The handling of integer data will change in version 0.22. Currently, the categories are determined based on the range [0, max(values)], while in the future they will be determined based on the unique values.\n",
      "If you want the future behaviour and silence this warning, you can specify \"categories='auto'\".\n",
      "In case you used a LabelEncoder before this OneHotEncoder to convert the categories to integers, then you can now use the OneHotEncoder directly.\n",
      "  warnings.warn(msg, FutureWarning)\n"
     ]
    }
   ],
   "source": [
    "encoded_weekdays = oh_weekday.fit_transform(df['Weekday'].values.reshape(-1, 1))"
   ]
  },
  {
   "cell_type": "code",
   "execution_count": 37,
   "metadata": {},
   "outputs": [
    {
     "data": {
      "text/html": [
       "<div>\n",
       "<style scoped>\n",
       "    .dataframe tbody tr th:only-of-type {\n",
       "        vertical-align: middle;\n",
       "    }\n",
       "\n",
       "    .dataframe tbody tr th {\n",
       "        vertical-align: top;\n",
       "    }\n",
       "\n",
       "    .dataframe thead th {\n",
       "        text-align: right;\n",
       "    }\n",
       "</style>\n",
       "<table border=\"1\" class=\"dataframe\">\n",
       "  <thead>\n",
       "    <tr style=\"text-align: right;\">\n",
       "      <th></th>\n",
       "      <th>time_start</th>\n",
       "      <th>time_end</th>\n",
       "      <th>place_latitude</th>\n",
       "      <th>place_longitude</th>\n",
       "      <th>delta</th>\n",
       "      <th>geo_cluster</th>\n",
       "      <th>date_start</th>\n",
       "      <th>Date</th>\n",
       "      <th>Weekday</th>\n",
       "      <th>half_holiday</th>\n",
       "      <th>...</th>\n",
       "      <th>Holiday_weekends</th>\n",
       "      <th>Regular_weekends</th>\n",
       "      <th>All_weekends</th>\n",
       "      <th>Year</th>\n",
       "      <th>Month</th>\n",
       "      <th>number_in_Year</th>\n",
       "      <th>number_in_Month</th>\n",
       "      <th>Season</th>\n",
       "      <th>hour</th>\n",
       "      <th>log_target</th>\n",
       "    </tr>\n",
       "  </thead>\n",
       "  <tbody>\n",
       "    <tr>\n",
       "      <td>0</td>\n",
       "      <td>2018-01-01 04:35:56</td>\n",
       "      <td>2018-01-01 12:28:19</td>\n",
       "      <td>28.227964</td>\n",
       "      <td>113.565739</td>\n",
       "      <td>472.383333</td>\n",
       "      <td>0</td>\n",
       "      <td>2018-01-01</td>\n",
       "      <td>2018-01-01</td>\n",
       "      <td>0</td>\n",
       "      <td>0</td>\n",
       "      <td>...</td>\n",
       "      <td>1</td>\n",
       "      <td>0</td>\n",
       "      <td>1</td>\n",
       "      <td>2018</td>\n",
       "      <td>1</td>\n",
       "      <td>1</td>\n",
       "      <td>1</td>\n",
       "      <td>Winter</td>\n",
       "      <td>4</td>\n",
       "      <td>6.157791</td>\n",
       "    </tr>\n",
       "    <tr>\n",
       "      <td>1</td>\n",
       "      <td>2018-01-01 09:30:40</td>\n",
       "      <td>2018-01-01 10:37:56</td>\n",
       "      <td>28.871813</td>\n",
       "      <td>114.592832</td>\n",
       "      <td>67.266667</td>\n",
       "      <td>14</td>\n",
       "      <td>2018-01-01</td>\n",
       "      <td>2018-01-01</td>\n",
       "      <td>0</td>\n",
       "      <td>0</td>\n",
       "      <td>...</td>\n",
       "      <td>1</td>\n",
       "      <td>0</td>\n",
       "      <td>1</td>\n",
       "      <td>2018</td>\n",
       "      <td>1</td>\n",
       "      <td>1</td>\n",
       "      <td>1</td>\n",
       "      <td>Winter</td>\n",
       "      <td>9</td>\n",
       "      <td>4.208665</td>\n",
       "    </tr>\n",
       "    <tr>\n",
       "      <td>3</td>\n",
       "      <td>2018-01-01 10:06:01</td>\n",
       "      <td>2018-01-01 12:50:29</td>\n",
       "      <td>28.768786</td>\n",
       "      <td>114.582630</td>\n",
       "      <td>164.466667</td>\n",
       "      <td>14</td>\n",
       "      <td>2018-01-01</td>\n",
       "      <td>2018-01-01</td>\n",
       "      <td>0</td>\n",
       "      <td>0</td>\n",
       "      <td>...</td>\n",
       "      <td>1</td>\n",
       "      <td>0</td>\n",
       "      <td>1</td>\n",
       "      <td>2018</td>\n",
       "      <td>1</td>\n",
       "      <td>1</td>\n",
       "      <td>1</td>\n",
       "      <td>Winter</td>\n",
       "      <td>10</td>\n",
       "      <td>5.102708</td>\n",
       "    </tr>\n",
       "    <tr>\n",
       "      <td>4</td>\n",
       "      <td>2018-01-01 11:07:07</td>\n",
       "      <td>2018-04-13 14:18:41</td>\n",
       "      <td>28.650852</td>\n",
       "      <td>114.595380</td>\n",
       "      <td>191.566667</td>\n",
       "      <td>14</td>\n",
       "      <td>2018-01-01</td>\n",
       "      <td>2018-01-01</td>\n",
       "      <td>0</td>\n",
       "      <td>0</td>\n",
       "      <td>...</td>\n",
       "      <td>1</td>\n",
       "      <td>0</td>\n",
       "      <td>1</td>\n",
       "      <td>2018</td>\n",
       "      <td>1</td>\n",
       "      <td>1</td>\n",
       "      <td>1</td>\n",
       "      <td>Winter</td>\n",
       "      <td>11</td>\n",
       "      <td>5.255236</td>\n",
       "    </tr>\n",
       "    <tr>\n",
       "      <td>5</td>\n",
       "      <td>2018-01-01 13:12:26</td>\n",
       "      <td>2018-01-01 14:11:56</td>\n",
       "      <td>28.210833</td>\n",
       "      <td>113.281111</td>\n",
       "      <td>59.500000</td>\n",
       "      <td>0</td>\n",
       "      <td>2018-01-01</td>\n",
       "      <td>2018-01-01</td>\n",
       "      <td>0</td>\n",
       "      <td>0</td>\n",
       "      <td>...</td>\n",
       "      <td>1</td>\n",
       "      <td>0</td>\n",
       "      <td>1</td>\n",
       "      <td>2018</td>\n",
       "      <td>1</td>\n",
       "      <td>1</td>\n",
       "      <td>1</td>\n",
       "      <td>Winter</td>\n",
       "      <td>13</td>\n",
       "      <td>4.085976</td>\n",
       "    </tr>\n",
       "  </tbody>\n",
       "</table>\n",
       "<p>5 rows × 21 columns</p>\n",
       "</div>"
      ],
      "text/plain": [
       "           time_start            time_end  place_latitude  place_longitude  \\\n",
       "0 2018-01-01 04:35:56 2018-01-01 12:28:19       28.227964       113.565739   \n",
       "1 2018-01-01 09:30:40 2018-01-01 10:37:56       28.871813       114.592832   \n",
       "3 2018-01-01 10:06:01 2018-01-01 12:50:29       28.768786       114.582630   \n",
       "4 2018-01-01 11:07:07 2018-04-13 14:18:41       28.650852       114.595380   \n",
       "5 2018-01-01 13:12:26 2018-01-01 14:11:56       28.210833       113.281111   \n",
       "\n",
       "        delta  geo_cluster date_start       Date  Weekday  half_holiday  ...  \\\n",
       "0  472.383333            0 2018-01-01 2018-01-01        0             0  ...   \n",
       "1   67.266667           14 2018-01-01 2018-01-01        0             0  ...   \n",
       "3  164.466667           14 2018-01-01 2018-01-01        0             0  ...   \n",
       "4  191.566667           14 2018-01-01 2018-01-01        0             0  ...   \n",
       "5   59.500000            0 2018-01-01 2018-01-01        0             0  ...   \n",
       "\n",
       "   Holiday_weekends  Regular_weekends  All_weekends  Year  Month  \\\n",
       "0                 1                 0             1  2018      1   \n",
       "1                 1                 0             1  2018      1   \n",
       "3                 1                 0             1  2018      1   \n",
       "4                 1                 0             1  2018      1   \n",
       "5                 1                 0             1  2018      1   \n",
       "\n",
       "   number_in_Year  number_in_Month  Season hour  log_target  \n",
       "0               1                1  Winter    4    6.157791  \n",
       "1               1                1  Winter    9    4.208665  \n",
       "3               1                1  Winter   10    5.102708  \n",
       "4               1                1  Winter   11    5.255236  \n",
       "5               1                1  Winter   13    4.085976  \n",
       "\n",
       "[5 rows x 21 columns]"
      ]
     },
     "execution_count": 37,
     "metadata": {},
     "output_type": "execute_result"
    }
   ],
   "source": [
    "df.head()"
   ]
  },
  {
   "cell_type": "code",
   "execution_count": 38,
   "metadata": {},
   "outputs": [
    {
     "name": "stdout",
     "output_type": "stream",
     "text": [
      "time_start\n",
      "time_end\n",
      "place_latitude\n",
      "place_longitude\n",
      "delta\n",
      "geo_cluster\n",
      "date_start\n",
      "Date\n",
      "Weekday\n",
      "half_holiday\n",
      "Holiday\n",
      "Holiday_weekends\n",
      "Regular_weekends\n",
      "All_weekends\n",
      "Year\n",
      "Month\n",
      "number_in_Year\n",
      "number_in_Month\n",
      "Season\n",
      "hour\n",
      "log_target\n"
     ]
    }
   ],
   "source": [
    "for i in df.columns:\n",
    "    print(i)"
   ]
  },
  {
   "cell_type": "code",
   "execution_count": 39,
   "metadata": {},
   "outputs": [
    {
     "name": "stderr",
     "output_type": "stream",
     "text": [
      "C:\\ProgramData\\Anaconda3\\lib\\site-packages\\sklearn\\preprocessing\\_encoders.py:363: FutureWarning: The handling of integer data will change in version 0.22. Currently, the categories are determined based on the range [0, max(values)], while in the future they will be determined based on the unique values.\n",
      "If you want the future behaviour and silence this warning, you can specify \"categories='auto'\".\n",
      "In case you used a LabelEncoder before this OneHotEncoder to convert the categories to integers, then you can now use the OneHotEncoder directly.\n",
      "  warnings.warn(msg, FutureWarning)\n"
     ]
    }
   ],
   "source": [
    "oh_geo = OneHotEncoder(sparse=False)\n",
    "encoded_geo = oh_geo.fit_transform(df['geo_cluster'].values.reshape(-1, 1))"
   ]
  },
  {
   "cell_type": "code",
   "execution_count": 40,
   "metadata": {},
   "outputs": [],
   "source": [
    "X = df[['place_latitude', 'place_longitude', 'Weekday', 'half_holiday', 'Holiday', 'Holiday_weekends',\n",
    "       'Regular_weekends', 'All_weekends', 'Year', 'Month', 'number_in_Year', 'number_in_Month', 'hour']]\n",
    "y = df['log_target']"
   ]
  },
  {
   "cell_type": "code",
   "execution_count": 41,
   "metadata": {},
   "outputs": [
    {
     "data": {
      "text/html": [
       "<div>\n",
       "<style scoped>\n",
       "    .dataframe tbody tr th:only-of-type {\n",
       "        vertical-align: middle;\n",
       "    }\n",
       "\n",
       "    .dataframe tbody tr th {\n",
       "        vertical-align: top;\n",
       "    }\n",
       "\n",
       "    .dataframe thead th {\n",
       "        text-align: right;\n",
       "    }\n",
       "</style>\n",
       "<table border=\"1\" class=\"dataframe\">\n",
       "  <thead>\n",
       "    <tr style=\"text-align: right;\">\n",
       "      <th></th>\n",
       "      <th>place_latitude</th>\n",
       "      <th>place_longitude</th>\n",
       "      <th>Weekday</th>\n",
       "      <th>half_holiday</th>\n",
       "      <th>Holiday</th>\n",
       "      <th>Holiday_weekends</th>\n",
       "      <th>Regular_weekends</th>\n",
       "      <th>All_weekends</th>\n",
       "      <th>Year</th>\n",
       "      <th>Month</th>\n",
       "      <th>number_in_Year</th>\n",
       "      <th>number_in_Month</th>\n",
       "      <th>hour</th>\n",
       "    </tr>\n",
       "  </thead>\n",
       "  <tbody>\n",
       "    <tr>\n",
       "      <td>0</td>\n",
       "      <td>28.227964</td>\n",
       "      <td>113.565739</td>\n",
       "      <td>0</td>\n",
       "      <td>0</td>\n",
       "      <td>1</td>\n",
       "      <td>1</td>\n",
       "      <td>0</td>\n",
       "      <td>1</td>\n",
       "      <td>2018</td>\n",
       "      <td>1</td>\n",
       "      <td>1</td>\n",
       "      <td>1</td>\n",
       "      <td>4</td>\n",
       "    </tr>\n",
       "    <tr>\n",
       "      <td>1</td>\n",
       "      <td>28.871813</td>\n",
       "      <td>114.592832</td>\n",
       "      <td>0</td>\n",
       "      <td>0</td>\n",
       "      <td>1</td>\n",
       "      <td>1</td>\n",
       "      <td>0</td>\n",
       "      <td>1</td>\n",
       "      <td>2018</td>\n",
       "      <td>1</td>\n",
       "      <td>1</td>\n",
       "      <td>1</td>\n",
       "      <td>9</td>\n",
       "    </tr>\n",
       "    <tr>\n",
       "      <td>3</td>\n",
       "      <td>28.768786</td>\n",
       "      <td>114.582630</td>\n",
       "      <td>0</td>\n",
       "      <td>0</td>\n",
       "      <td>1</td>\n",
       "      <td>1</td>\n",
       "      <td>0</td>\n",
       "      <td>1</td>\n",
       "      <td>2018</td>\n",
       "      <td>1</td>\n",
       "      <td>1</td>\n",
       "      <td>1</td>\n",
       "      <td>10</td>\n",
       "    </tr>\n",
       "    <tr>\n",
       "      <td>4</td>\n",
       "      <td>28.650852</td>\n",
       "      <td>114.595380</td>\n",
       "      <td>0</td>\n",
       "      <td>0</td>\n",
       "      <td>1</td>\n",
       "      <td>1</td>\n",
       "      <td>0</td>\n",
       "      <td>1</td>\n",
       "      <td>2018</td>\n",
       "      <td>1</td>\n",
       "      <td>1</td>\n",
       "      <td>1</td>\n",
       "      <td>11</td>\n",
       "    </tr>\n",
       "    <tr>\n",
       "      <td>5</td>\n",
       "      <td>28.210833</td>\n",
       "      <td>113.281111</td>\n",
       "      <td>0</td>\n",
       "      <td>0</td>\n",
       "      <td>1</td>\n",
       "      <td>1</td>\n",
       "      <td>0</td>\n",
       "      <td>1</td>\n",
       "      <td>2018</td>\n",
       "      <td>1</td>\n",
       "      <td>1</td>\n",
       "      <td>1</td>\n",
       "      <td>13</td>\n",
       "    </tr>\n",
       "  </tbody>\n",
       "</table>\n",
       "</div>"
      ],
      "text/plain": [
       "   place_latitude  place_longitude  Weekday  half_holiday  Holiday  \\\n",
       "0       28.227964       113.565739        0             0        1   \n",
       "1       28.871813       114.592832        0             0        1   \n",
       "3       28.768786       114.582630        0             0        1   \n",
       "4       28.650852       114.595380        0             0        1   \n",
       "5       28.210833       113.281111        0             0        1   \n",
       "\n",
       "   Holiday_weekends  Regular_weekends  All_weekends  Year  Month  \\\n",
       "0                 1                 0             1  2018      1   \n",
       "1                 1                 0             1  2018      1   \n",
       "3                 1                 0             1  2018      1   \n",
       "4                 1                 0             1  2018      1   \n",
       "5                 1                 0             1  2018      1   \n",
       "\n",
       "   number_in_Year  number_in_Month  hour  \n",
       "0               1                1     4  \n",
       "1               1                1     9  \n",
       "3               1                1    10  \n",
       "4               1                1    11  \n",
       "5               1                1    13  "
      ]
     },
     "execution_count": 41,
     "metadata": {},
     "output_type": "execute_result"
    }
   ],
   "source": [
    "X.head()"
   ]
  },
  {
   "cell_type": "code",
   "execution_count": 42,
   "metadata": {},
   "outputs": [
    {
     "data": {
      "text/plain": [
       "array([[ 28.22796389, 113.56573889,   0.        , ...,   1.        ,\n",
       "          1.        ,   4.        ],\n",
       "       [ 28.87181328, 114.59283171,   0.        , ...,   1.        ,\n",
       "          1.        ,   9.        ],\n",
       "       [ 28.76878601, 114.58262955,   0.        , ...,   1.        ,\n",
       "          1.        ,  10.        ],\n",
       "       ...,\n",
       "       [ 28.12      , 113.63888889,   4.        , ...,  31.        ,\n",
       "         31.        ,  20.        ],\n",
       "       [ 28.03505274, 114.59841649,   4.        , ...,  31.        ,\n",
       "         31.        ,  20.        ],\n",
       "       [ 28.80557753, 114.55040257,   4.        , ...,  31.        ,\n",
       "         31.        ,  21.        ]])"
      ]
     },
     "execution_count": 42,
     "metadata": {},
     "output_type": "execute_result"
    }
   ],
   "source": [
    "X.values"
   ]
  },
  {
   "cell_type": "code",
   "execution_count": 43,
   "metadata": {},
   "outputs": [],
   "source": [
    "sh = np.concatenate((X.values, encoded_geo, encoded_seasons, encoded_weekdays), axis=1)"
   ]
  },
  {
   "cell_type": "code",
   "execution_count": 44,
   "metadata": {},
   "outputs": [],
   "source": [
    "scaler = StandardScaler()\n",
    "X_tr = scaler.fit_transform(sh)"
   ]
  },
  {
   "cell_type": "code",
   "execution_count": 46,
   "metadata": {},
   "outputs": [
    {
     "data": {
      "text/plain": [
       "(74313, 44)"
      ]
     },
     "execution_count": 46,
     "metadata": {},
     "output_type": "execute_result"
    }
   ],
   "source": [
    "X_tr.shape"
   ]
  },
  {
   "cell_type": "code",
   "execution_count": 48,
   "metadata": {},
   "outputs": [],
   "source": [
    "import lightgbm as lgb"
   ]
  },
  {
   "cell_type": "code",
   "execution_count": 50,
   "metadata": {},
   "outputs": [],
   "source": [
    "model = lgb.LGBMRegressor(objective='mape', max_depth=7, silent=False)"
   ]
  },
  {
   "cell_type": "code",
   "execution_count": 52,
   "metadata": {},
   "outputs": [
    {
     "data": {
      "text/plain": [
       "LGBMRegressor(boosting_type='gbdt', class_weight=None, colsample_bytree=1.0,\n",
       "       importance_type='split', learning_rate=0.1, max_depth=7,\n",
       "       min_child_samples=20, min_child_weight=0.001, min_split_gain=0.0,\n",
       "       n_estimators=100, n_jobs=-1, num_leaves=31, objective='mape',\n",
       "       random_state=None, reg_alpha=0.0, reg_lambda=0.0, silent=False,\n",
       "       subsample=1.0, subsample_for_bin=200000, subsample_freq=0)"
      ]
     },
     "execution_count": 52,
     "metadata": {},
     "output_type": "execute_result"
    }
   ],
   "source": [
    "model.fit(X_tr[:60000], y.values[:60000])"
   ]
  },
  {
   "cell_type": "code",
   "execution_count": 55,
   "metadata": {},
   "outputs": [],
   "source": [
    "preds = model.predict(X_tr[:60000])"
   ]
  },
  {
   "cell_type": "code",
   "execution_count": 56,
   "metadata": {},
   "outputs": [],
   "source": [
    "def MAPE(y_true, y_pred):\n",
    "    error = np.abs((y_true - y_pred) / (y_true + 0.001))\n",
    "    return np.mean(error) * 100"
   ]
  },
  {
   "cell_type": "code",
   "execution_count": 65,
   "metadata": {},
   "outputs": [
    {
     "data": {
      "text/plain": [
       "64.69145956205115"
      ]
     },
     "execution_count": 65,
     "metadata": {},
     "output_type": "execute_result"
    }
   ],
   "source": [
    "MAPE(np.exp(y.values[:60000]), np.exp(preds))"
   ]
  },
  {
   "cell_type": "code",
   "execution_count": 58,
   "metadata": {},
   "outputs": [],
   "source": [
    "preds_test = model.predict(X_tr[60000:])"
   ]
  },
  {
   "cell_type": "code",
   "execution_count": 66,
   "metadata": {},
   "outputs": [
    {
     "data": {
      "text/plain": [
       "68.26666001845975"
      ]
     },
     "execution_count": 66,
     "metadata": {},
     "output_type": "execute_result"
    }
   ],
   "source": [
    "MAPE(np.exp(y.values[60000:]), np.exp(preds_test))"
   ]
  },
  {
   "cell_type": "code",
   "execution_count": 70,
   "metadata": {},
   "outputs": [
    {
     "data": {
      "text/plain": [
       "4.208664819251399"
      ]
     },
     "execution_count": 70,
     "metadata": {},
     "output_type": "execute_result"
    }
   ],
   "source": [
    "y.iloc[1]"
   ]
  },
  {
   "cell_type": "code",
   "execution_count": null,
   "metadata": {},
   "outputs": [],
   "source": []
  },
  {
   "cell_type": "code",
   "execution_count": 71,
   "metadata": {},
   "outputs": [],
   "source": [
    "N_TIME_STEPS = 20\n",
    "N_FEATURES = X_tr.shape[1]\n",
    "segments = []\n",
    "targets = []\n",
    "for i in range(N_TIME_STEPS, X_tr.shape[0], 1):\n",
    "    segment = X_tr[i-N_TIME_STEPS:i, :]\n",
    "    target = y.iloc[i]\n",
    "    segments.append(segment)\n",
    "    targets.append(target)"
   ]
  },
  {
   "cell_type": "code",
   "execution_count": 73,
   "metadata": {},
   "outputs": [],
   "source": [
    "X_rn = np.asarray(segments)\n",
    "y_rn = np.asarray(targets)"
   ]
  },
  {
   "cell_type": "code",
   "execution_count": 75,
   "metadata": {},
   "outputs": [
    {
     "data": {
      "text/plain": [
       "(74293,)"
      ]
     },
     "execution_count": 75,
     "metadata": {},
     "output_type": "execute_result"
    }
   ],
   "source": [
    "y_rn.shape"
   ]
  },
  {
   "cell_type": "code",
   "execution_count": 83,
   "metadata": {},
   "outputs": [],
   "source": [
    "# Пространство перебора гиперпараметров для hyperopt\n",
    "\n",
    "space ={\n",
    "        'boosting_type': hp.choice( 'boosting_type', ['gbdt', 'dart'] ),\n",
    "        'objective': 'mape',\n",
    "        'max_depth': scope.int(hp.quniform(\"max_depth\", 3, 12, 1)),\n",
    "        'n_estimators': scope.int(hp.quniform('n_estimators', 10, 1000, 10)),\n",
    "        'num_leaves': scope.int(hp.quniform ('num_leaves', 10, 500, 1)),\n",
    "        'min_data_in_leaf':  scope.int(hp.quniform ('min_data_in_leaf', 10, 500, 1)),\n",
    "        'feature_fraction': hp.uniform('feature_fraction', 0.5, 1.0),\n",
    "        'bagging_fraction': hp.uniform('bagging_fraction', 0.5, 1.0),\n",
    "        'learning_rate': hp.uniform('learning_rate', 0.001, 0.5),\n",
    "        'min_sum_hessian_in_leaf': hp.uniform('min_sum_hessian_in_leaf', 0, 5),\n",
    "        'lambda_l1': hp.uniform('lambda_l1', 1e-6, 1e-1 ),\n",
    "        'lambda_l2': hp.uniform('lambda_l2', 1e-6, 1e-1 ),\n",
    "        'seed': 42\n",
    "       }"
   ]
  },
  {
   "cell_type": "code",
   "execution_count": 84,
   "metadata": {},
   "outputs": [],
   "source": [
    "def objective(space):\n",
    "    clf = lgb.LGBMRegressor(**space)\n",
    "    clf.fit(X_tr[:60000], y.values[:60000])\n",
    "    preds_test = clf.predict(X_tr[60000:])\n",
    "    current_score = MAPE(np.exp(y.values[60000:]), np.exp(preds_test))\n",
    "    return current_score"
   ]
  },
  {
   "cell_type": "code",
   "execution_count": 85,
   "metadata": {},
   "outputs": [
    {
     "name": "stdout",
     "output_type": "stream",
     "text": [
      "100%|█████████████████████████████████████████████████| 50/50 [07:00<00:00,  8.41s/trial, best loss: 55.44902672602549]\n"
     ]
    }
   ],
   "source": [
    "best = fmin(fn=objective, space=space, algo=tpe.suggest, max_evals=50)"
   ]
  },
  {
   "cell_type": "code",
   "execution_count": 86,
   "metadata": {},
   "outputs": [],
   "source": [
    "params = copy.deepcopy(best)\n",
    "\n",
    "def params_check(params):\n",
    "    if params['boosting_type'] == 0:\n",
    "        params['boosting_type'] = 'gbdt'\n",
    "    elif params['boosting_type'] == 1:\n",
    "        params['boosting_type'] = 'dart'\n",
    "    \n",
    "    params['max_depth'] = int(params['max_depth'])\n",
    "    params['min_data_in_leaf'] = int(params['min_data_in_leaf'])\n",
    "    params['n_estimators'] = int(params['n_estimators'])\n",
    "    params['num_leaves'] = int(params['num_leaves'])\n",
    "    params['objective'] = 'mape'\n",
    "    params['seed'] = 42\n",
    "    return params"
   ]
  },
  {
   "cell_type": "code",
   "execution_count": 87,
   "metadata": {},
   "outputs": [],
   "source": [
    "params = params_check(params)"
   ]
  },
  {
   "cell_type": "code",
   "execution_count": 89,
   "metadata": {},
   "outputs": [
    {
     "name": "stdout",
     "output_type": "stream",
     "text": [
      "55.44902672602549\n"
     ]
    }
   ],
   "source": [
    "clf = lgb.LGBMRegressor(**params)\n",
    "clf.fit(X_tr[:60000], y.values[:60000])\n",
    "preds_test = clf.predict(X_tr[60000:])\n",
    "print(MAPE(np.exp(y.values[60000:]), np.exp(preds_test)))"
   ]
  },
  {
   "cell_type": "code",
   "execution_count": null,
   "metadata": {},
   "outputs": [],
   "source": []
  }
 ],
 "metadata": {
  "kernelspec": {
   "display_name": "Python 3",
   "language": "python",
   "name": "python3"
  },
  "language_info": {
   "codemirror_mode": {
    "name": "ipython",
    "version": 3
   },
   "file_extension": ".py",
   "mimetype": "text/x-python",
   "name": "python",
   "nbconvert_exporter": "python",
   "pygments_lexer": "ipython3",
   "version": "3.6.5"
  }
 },
 "nbformat": 4,
 "nbformat_minor": 2
}
